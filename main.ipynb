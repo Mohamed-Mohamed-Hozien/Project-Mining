{
 "cells": [
  {
   "cell_type": "code",
   "execution_count": 1,
   "metadata": {},
   "outputs": [
    {
     "name": "stderr",
     "output_type": "stream",
     "text": [
      "[INFO] If you have a local copy of http://trec-car.cs.unh.edu/datareleases/v1.5/paragraphcorpus-v1.5.tar.xz, you can symlink it here to avoid downloading it again: C:\\Users\\midoh\\.ir_datasets\\downloads\\4d006dd67cbc11541ed7f87b875cb990\n",
      "[INFO] [starting] http://trec-car.cs.unh.edu/datareleases/v1.5/paragraphcorpus-v1.5.tar.xz\n",
      "http://trec-car.cs.unh.edu/datareleases/v1.5/paragraphcorpus-v1.5.tar.xz: 0.0%| 197k/5.11G [00:02<19:01:18, 74.7kB/s] "
     ]
    }
   ],
   "source": [
    "# import ir_datasets\n",
    "# dataset = ir_datasets.load(\"car/v1.5\")\n",
    "# for doc in dataset.docs_iter():\n",
    "#     doc # namedtuple<doc_id, text>"
   ]
  },
  {
   "cell_type": "code",
   "execution_count": 3,
   "metadata": {},
   "outputs": [
    {
     "data": {
      "text/plain": [
       "CarQuery(query_id='Structural%20information%20theory/Visual%20regularity', text='Structural information theory Visual regularity', title='Structural information theory', headings=('Visual regularity',))"
      ]
     },
     "execution_count": 3,
     "metadata": {},
     "output_type": "execute_result"
    }
   ],
   "source": [
    "# import ir_datasets\n",
    "# dataset = ir_datasets.load(\"car/v1.5/test200\")\n",
    "# for query in dataset.queries_iter():\n",
    "#     query # namedtuple<query_id, text, title, headings>\n",
    "# query"
   ]
  },
  {
   "cell_type": "code",
   "execution_count": 3,
   "metadata": {},
   "outputs": [],
   "source": [
    "collection = []\n",
    "\n",
    "for i in range(1, 101):\n",
    "    filename = f'./archive_2/business/business_{i}.txt'\n",
    "    with open(filename, 'r') as f:\n",
    "        lines = f.readlines()\n",
    "        for line in lines:\n",
    "            collection.append(line.strip().split())\n",
    "    filename = f'./archive_2/entertainment/entertainment_{i}.txt'\n",
    "    with open(filename, 'r') as f:\n",
    "        lines = f.readlines()\n",
    "        for line in lines:\n",
    "            collection.append(line.strip().split())\n",
    "    filename = f'./archive_2/food/food_{i}.txt'\n",
    "    with open(filename, 'r') as f:\n",
    "        lines = f.readlines()\n",
    "        for line in lines:\n",
    "            collection.append(line.strip().split())\n",
    "    filename = f'./archive_2/graphics/graphics_{i}.txt'\n",
    "    with open(filename, 'r') as f:\n",
    "        lines = f.readlines()\n",
    "        for line in lines:\n",
    "            collection.append(line.strip().split())\n",
    "    filename = f'./archive_2/historical/historical_{i}.txt'\n",
    "    with open(filename, 'r') as f:\n",
    "        lines = f.readlines()\n",
    "        for line in lines:\n",
    "            collection.append(line.strip().split())\n",
    "    # filename = f'./archive_2/medical/medical_{i}.txt'\n",
    "    # with open(filename, 'r') as f:\n",
    "    #     lines = f.readlines()\n",
    "    #     for line in lines:\n",
    "    #         collection.append(line.strip().split())\n",
    "    # filename = f'./archive_2/politics/politics_{i}.txt'\n",
    "    # with open(filename, 'r') as f:\n",
    "    #     lines = f.readlines()\n",
    "    #     for line in lines:\n",
    "    #         collection.append(line.strip().split())\n",
    "    filename = f'./archive_2/space/space_{i}.txt'\n",
    "    with open(filename, 'r') as f:\n",
    "        lines = f.readlines()\n",
    "        for line in lines:\n",
    "            collection.append(line.strip().split())\n",
    "    filename = f'./archive_2//sport/sport_{i}.txt'\n",
    "    with open(filename, 'r') as f:\n",
    "        lines = f.readlines()\n",
    "        for line in lines:\n",
    "            collection.append(line.strip().split())\n",
    "    filename = f'./archive_2/technologie/technologie_{i}.txt'\n",
    "    with open(filename, 'r') as f:\n",
    "        lines = f.readlines()\n",
    "        for line in lines:\n",
    "            collection.append(line.strip().split())\n",
    "with open('text.txt', 'w+'):\n",
    "    for line in collection:\n",
    "        print(line, file=open('text.txt', 'a'))"
   ]
  },
  {
   "cell_type": "code",
   "execution_count": null,
   "metadata": {},
   "outputs": [],
   "source": []
  }
 ],
 "metadata": {
  "kernelspec": {
   "display_name": "Python 3",
   "language": "python",
   "name": "python3"
  },
  "language_info": {
   "codemirror_mode": {
    "name": "ipython",
    "version": 3
   },
   "file_extension": ".py",
   "mimetype": "text/x-python",
   "name": "python",
   "nbconvert_exporter": "python",
   "pygments_lexer": "ipython3",
   "version": "3.12.2"
  }
 },
 "nbformat": 4,
 "nbformat_minor": 2
}
