{
 "cells": [
  {
   "cell_type": "code",
   "execution_count": null,
   "metadata": {},
   "outputs": [],
   "source": [
    "import nltk\n",
    "from nltk.corpus import stopwords\n",
    "import pandas as pd"
   ]
  },
  {
   "cell_type": "code",
   "execution_count": 1,
   "metadata": {},
   "outputs": [
    {
     "name": "stderr",
     "output_type": "stream",
     "text": [
      "[INFO] If you have a local copy of http://trec-car.cs.unh.edu/datareleases/v1.5/paragraphcorpus-v1.5.tar.xz, you can symlink it here to avoid downloading it again: C:\\Users\\midoh\\.ir_datasets\\downloads\\4d006dd67cbc11541ed7f87b875cb990\n",
      "[INFO] [starting] http://trec-car.cs.unh.edu/datareleases/v1.5/paragraphcorpus-v1.5.tar.xz\n",
      "http://trec-car.cs.unh.edu/datareleases/v1.5/paragraphcorpus-v1.5.tar.xz: 0.0%| 197k/5.11G [00:02<19:01:18, 74.7kB/s] "
     ]
    }
   ],
   "source": [
    "# import ir_datasets\n",
    "# dataset = ir_datasets.load(\"car/v1.5\")\n",
    "# for doc in dataset.docs_iter():\n",
    "#     doc # namedtuple<doc_id, text>"
   ]
  },
  {
   "cell_type": "code",
   "execution_count": 3,
   "metadata": {},
   "outputs": [
    {
     "data": {
      "text/plain": [
       "CarQuery(query_id='Structural%20information%20theory/Visual%20regularity', text='Structural information theory Visual regularity', title='Structural information theory', headings=('Visual regularity',))"
      ]
     },
     "execution_count": 3,
     "metadata": {},
     "output_type": "execute_result"
    }
   ],
   "source": [
    "# import ir_datasets\n",
    "# dataset = ir_datasets.load(\"car/v1.5/test200\")\n",
    "# for query in dataset.queries_iter():\n",
    "#     query # namedtuple<query_id, text, title, headings>\n",
    "# query"
   ]
  },
  {
   "cell_type": "code",
   "execution_count": 7,
   "metadata": {},
   "outputs": [],
   "source": [
    "import pandas as pd\n",
    "\n",
    "collection = []\n",
    "\n",
    "categories = ['business', 'entertainment', 'food',\n",
    "              'graphics', 'historical', 'space', 'sport', 'technologie']\n",
    "\n",
    "for category in categories:\n",
    "    for i in range(1, 101):\n",
    "        filename = f'./archive_2/{category}/{category}_{i}.txt'\n",
    "        with open(filename, 'r') as f:\n",
    "            lines = f.readlines()\n",
    "            for line in lines:\n",
    "                line = line.strip()\n",
    "                if line:  # Check if the line is not empty\n",
    "                    collection.append({'category': category, 'text': line})\n",
    "\n",
    "df = pd.DataFrame(collection)\n",
    "df.to_csv('text.csv', index=False)"
   ]
  },
  {
   "cell_type": "code",
   "execution_count": 8,
   "metadata": {},
   "outputs": [
    {
     "data": {
      "text/html": [
       "<div>\n",
       "<style scoped>\n",
       "    .dataframe tbody tr th:only-of-type {\n",
       "        vertical-align: middle;\n",
       "    }\n",
       "\n",
       "    .dataframe tbody tr th {\n",
       "        vertical-align: top;\n",
       "    }\n",
       "\n",
       "    .dataframe thead th {\n",
       "        text-align: right;\n",
       "    }\n",
       "</style>\n",
       "<table border=\"1\" class=\"dataframe\">\n",
       "  <thead>\n",
       "    <tr style=\"text-align: right;\">\n",
       "      <th></th>\n",
       "      <th>category</th>\n",
       "      <th>text</th>\n",
       "    </tr>\n",
       "  </thead>\n",
       "  <tbody>\n",
       "    <tr>\n",
       "      <th>0</th>\n",
       "      <td>business</td>\n",
       "      <td>Lufthansa flies back to profit</td>\n",
       "    </tr>\n",
       "    <tr>\n",
       "      <th>1</th>\n",
       "      <td>business</td>\n",
       "      <td>German airline Lufthansa has returned to profi...</td>\n",
       "    </tr>\n",
       "    <tr>\n",
       "      <th>2</th>\n",
       "      <td>business</td>\n",
       "      <td>In a preliminary report, the airline announced...</td>\n",
       "    </tr>\n",
       "    <tr>\n",
       "      <th>3</th>\n",
       "      <td>business</td>\n",
       "      <td>Japanese growth grinds to a halt</td>\n",
       "    </tr>\n",
       "    <tr>\n",
       "      <th>4</th>\n",
       "      <td>business</td>\n",
       "      <td>Growth in Japan evaporated in the three months...</td>\n",
       "    </tr>\n",
       "    <tr>\n",
       "      <th>...</th>\n",
       "      <td>...</td>\n",
       "      <td>...</td>\n",
       "    </tr>\n",
       "    <tr>\n",
       "      <th>12744</th>\n",
       "      <td>technologie</td>\n",
       "      <td>Consumers swapping old phones for slinkier, di...</td>\n",
       "    </tr>\n",
       "    <tr>\n",
       "      <th>12745</th>\n",
       "      <td>technologie</td>\n",
       "      <td>In fact, the numbers of people not taking and ...</td>\n",
       "    </tr>\n",
       "    <tr>\n",
       "      <th>12746</th>\n",
       "      <td>technologie</td>\n",
       "      <td>\"Also,\" he said, \"they have to simplify the in...</td>\n",
       "    </tr>\n",
       "    <tr>\n",
       "      <th>12747</th>\n",
       "      <td>technologie</td>\n",
       "      <td>There are other deeper technical reasons why m...</td>\n",
       "    </tr>\n",
       "    <tr>\n",
       "      <th>12748</th>\n",
       "      <td>technologie</td>\n",
       "      <td>No-one wants to take the risk of swamping thes...</td>\n",
       "    </tr>\n",
       "  </tbody>\n",
       "</table>\n",
       "<p>12749 rows × 2 columns</p>\n",
       "</div>"
      ],
      "text/plain": [
       "          category                                               text\n",
       "0         business                     Lufthansa flies back to profit\n",
       "1         business  German airline Lufthansa has returned to profi...\n",
       "2         business  In a preliminary report, the airline announced...\n",
       "3         business                   Japanese growth grinds to a halt\n",
       "4         business  Growth in Japan evaporated in the three months...\n",
       "...            ...                                                ...\n",
       "12744  technologie  Consumers swapping old phones for slinkier, di...\n",
       "12745  technologie  In fact, the numbers of people not taking and ...\n",
       "12746  technologie  \"Also,\" he said, \"they have to simplify the in...\n",
       "12747  technologie  There are other deeper technical reasons why m...\n",
       "12748  technologie  No-one wants to take the risk of swamping thes...\n",
       "\n",
       "[12749 rows x 2 columns]"
      ]
     },
     "execution_count": 8,
     "metadata": {},
     "output_type": "execute_result"
    }
   ],
   "source": [
    "df = pd.read_csv('./text.csv')\n",
    "df"
   ]
  },
  {
   "cell_type": "code",
   "execution_count": null,
   "metadata": {},
   "outputs": [],
   "source": []
  }
 ],
 "metadata": {
  "kernelspec": {
   "display_name": "Python 3",
   "language": "python",
   "name": "python3"
  },
  "language_info": {
   "codemirror_mode": {
    "name": "ipython",
    "version": 3
   },
   "file_extension": ".py",
   "mimetype": "text/x-python",
   "name": "python",
   "nbconvert_exporter": "python",
   "pygments_lexer": "ipython3",
   "version": "3.12.2"
  }
 },
 "nbformat": 4,
 "nbformat_minor": 2
}
